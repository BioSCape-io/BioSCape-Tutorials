{
 "cells": [
  {
   "cell_type": "code",
   "execution_count": 3,
   "metadata": {},
   "outputs": [],
   "source": [
    "import matplotlib.pyplot as plt\n",
    "from spectral.io import envi\n",
    "import numpy as np\n",
    "import os\n",
    "from osgeo import gdal\n",
    "\n"
   ]
  },
  {
   "cell_type": "code",
   "execution_count": 2,
   "metadata": {},
   "outputs": [],
   "source": [
    "\n",
    "\n",
    "\n",
    "data_file = 'this is my data file'\n",
    "cooords = [-33.494364,\t20.704742]"
   ]
  },
  {
   "cell_type": "code",
   "execution_count": null,
   "metadata": {},
   "outputs": [],
   "source": [
    "\n",
    "\n",
    "gdal_ds = gdal.Open(data_file)\n",
    "trans = gdal_ds.GetGeoTransform() # x_ul, x_px, x_rot, y_ul, y_rot, y_px\n",
    "proj = gdal_ds.GetProjection()\n",
    "\n",
    "ds = envi.open(os.splitext(data_file)[0] + '.hdr')\n",
    "\n",
    "\n",
    "# maybe add step to translate coordinates\n",
    "\n"
   ]
  },
  {
   "cell_type": "code",
   "execution_count": null,
   "metadata": {},
   "outputs": [],
   "source": [
    "\n",
    "x_px_offset = int(round((coords[1] - trans[0]) / trans[1]))\n",
    "y_px_offset = int(round((coords[0] - trans[3]) / trans[5]))\n",
    "\n",
    "print(x_px_offset, y_px_offset)\n",
    "\n",
    "offset_size = 1\n",
    "data = ds.open_memmap(interleave='bip')[y_px_offset - 1: y_px_offset + 1, x_px_offset - 1: x_px_offset + 1, :]\n",
    "\n",
    "# return a 3 x 3 x 425 wavelength subset centered on your area\n",
    "\n"
   ]
  },
  {
   "cell_type": "code",
   "execution_count": null,
   "metadata": {},
   "outputs": [],
   "source": [
    "wl = np.array([float(x) for x in ds.metadata['wavelength']])\n",
    "\n",
    "plt.plot(wl, np.mean(data, axis=(0, 1)))\n",
    "# plot the average spectrum"
   ]
  }
 ],
 "metadata": {
  "kernelspec": {
   "display_name": "Python 3",
   "language": "python",
   "name": "python3"
  },
  "language_info": {
   "codemirror_mode": {
    "name": "ipython",
    "version": 3
   },
   "file_extension": ".py",
   "mimetype": "text/x-python",
   "name": "python",
   "nbconvert_exporter": "python",
   "pygments_lexer": "ipython3",
   "version": "3.8.13"
  }
 },
 "nbformat": 4,
 "nbformat_minor": 2
}
